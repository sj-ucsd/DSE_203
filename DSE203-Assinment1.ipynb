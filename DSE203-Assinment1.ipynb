{
 "cells": [
  {
   "cell_type": "markdown",
   "id": "1901c42b-28f4-4576-b0b8-697dcb2ac649",
   "metadata": {},
   "source": [
    "# Programming Assignment 1\n",
    "## model transformers:\n",
    "### 4. Semistructured to Property Graph\n",
    "Each of the six groups should choose one and implement it in Python with a README file and some documentation. The implementation can be delivered in one of three ways: a command line utility, a Python package, or a REST API. A model transformer will take as input (a) a data file (e.g., CSV) of a specific model, and (b) a mapping configuration (in class we have seen several examples -- see the Model Transformation slides) and output a transformed data file. The developing group should also produce a sample input data file and its corresponding output data file. If any implementation uses an existing library or has some dependency (e.g., it uses Java), it should be mentioned in the README file so that the users can configure their environment accordingly. "
   ]
  },
  {
   "cell_type": "code",
   "execution_count": 1,
   "id": "25154484-32cf-4312-9585-07a407828848",
   "metadata": {},
   "outputs": [],
   "source": [
    "#pip install jsonpath-ng\n",
    "import json\n",
    "from jsonpath_ng.ext import parse"
   ]
  },
  {
   "cell_type": "code",
   "execution_count": 2,
   "id": "b2ab81ff-71f4-4e08-8f8e-147c684f6412",
   "metadata": {},
   "outputs": [
    {
     "data": {
      "text/plain": [
       "{'People': [{'id': 1,\n",
       "   'Name': 'Max',\n",
       "   'Age': 20,\n",
       "   'Gender': 'Male',\n",
       "   'friends': [2, 3]},\n",
       "  {'id': 2, 'Name': 'Alice', 'Age': 25, 'Gender': 'Female', 'friends': [1]},\n",
       "  {'id': 3, 'Name': 'Bob', 'Age': 22, 'Gender': 'Male', 'friends': [1, 4]},\n",
       "  {'id': 4, 'Name': 'Joe', 'Age': 52, 'Gender': 'Male', 'friends': [3]}]}"
      ]
     },
     "execution_count": 2,
     "metadata": {},
     "output_type": "execute_result"
    }
   ],
   "source": [
    "# Load people.json as Data Input-I\n",
    "with open('./people.json') as people_json:\n",
    "    people = json.load(people_json)\n",
    "\n",
    "people"
   ]
  },
  {
   "cell_type": "code",
   "execution_count": 3,
   "id": "d85e372c-179f-44d6-8ca7-baf361727a94",
   "metadata": {},
   "outputs": [
    {
     "name": "stdout",
     "output_type": "stream",
     "text": [
      "Male\n"
     ]
    }
   ],
   "source": [
    "# Exploration : Find People Gender where Name conatins Max \n",
    "jsonpath_expression = parse(\"$.People[?(@.Name[:] =~ 'Max')].Gender\")\n",
    "\n",
    "for match in jsonpath_expression.find(people):\n",
    "    print(match.value)"
   ]
  },
  {
   "cell_type": "code",
   "execution_count": 4,
   "id": "d9821d63-7815-4800-9cdb-885cb22f8c9b",
   "metadata": {},
   "outputs": [
    {
     "data": {
      "text/plain": [
       "{'graph': {'nodes': [{'node': {'id': 1,\n",
       "     'label': ['Max'],\n",
       "     'properties': {'Name': {'datatype': 'string', 'data value': 'Max'},\n",
       "      'Age': {'datatype': 'string', 'data value': 20},\n",
       "      'Gender': {'datatype': 'string', 'data value': 'Male'},\n",
       "      \"{'_type': 'FRIENDS', '_source': 'id', '_target': 'friends'}\": {'datatype': 'string',\n",
       "       'data value': [2, 3]}}}},\n",
       "   {'node': {'id': 2,\n",
       "     'label': ['Alice'],\n",
       "     'properties': {'Name': {'datatype': 'string', 'data value': 'Alice'},\n",
       "      'Age': {'datatype': 'string', 'data value': 25},\n",
       "      'Gender': {'datatype': 'string', 'data value': 'Female'},\n",
       "      \"{'_type': 'FRIENDS', '_source': 'id', '_target': 'friends'}\": {'datatype': 'string',\n",
       "       'data value': [1]}}}},\n",
       "   {'node': {'id': 3,\n",
       "     'label': ['Bob'],\n",
       "     'properties': {'Name': {'datatype': 'string', 'data value': 'Bob'},\n",
       "      'Age': {'datatype': 'string', 'data value': 22},\n",
       "      'Gender': {'datatype': 'string', 'data value': 'Male'},\n",
       "      \"{'_type': 'FRIENDS', '_source': 'id', '_target': 'friends'}\": {'datatype': 'string',\n",
       "       'data value': [1, 4]}}}},\n",
       "   {'node': {'id': 4,\n",
       "     'label': ['Joe'],\n",
       "     'properties': {'Name': {'datatype': 'string', 'data value': 'Joe'},\n",
       "      'Age': {'datatype': 'string', 'data value': 52},\n",
       "      'Gender': {'datatype': 'string', 'data value': 'Male'},\n",
       "      \"{'_type': 'FRIENDS', '_source': 'id', '_target': 'friends'}\": {'datatype': 'string',\n",
       "       'data value': [3]}}}}],\n",
       "  'edges': [{'edge': {'source': 1,\n",
       "     'target': 2,\n",
       "     'label': 'FRIENDS',\n",
       "     'properties': {}}},\n",
       "   {'edge': {'source': 1, 'target': 3, 'label': 'FRIENDS', 'properties': {}}},\n",
       "   {'edge': {'source': 2, 'target': 1, 'label': 'FRIENDS', 'properties': {}}},\n",
       "   {'edge': {'source': 3, 'target': 1, 'label': 'FRIENDS', 'properties': {}}},\n",
       "   {'edge': {'source': 3, 'target': 4, 'label': 'FRIENDS', 'properties': {}}},\n",
       "   {'edge': {'source': 4,\n",
       "     'target': 3,\n",
       "     'label': 'FRIENDS',\n",
       "     'properties': {}}}]}}"
      ]
     },
     "execution_count": 4,
     "metadata": {},
     "output_type": "execute_result"
    }
   ],
   "source": [
    "# Load people.json as Data Input-I\n",
    "# Load the mapping configuration-mapping_config-4.json\n",
    "# Mapping Logic – Nodes # Each row on our People becomes a node with People as the label.\n",
    "# Mapping Logic – Edges # Join between People and itself (unary relationship) becomes a relationship named Friends (where People have friends ).\n",
    "#with open('/home/prshukla/work/DSE203/mapping_config-4.json', 'r') as mapping_file:\n",
    "\n",
    "# Source Data\n",
    "data = people\n",
    "\n",
    "# Load the mapping configuration-mapping_config-4.json\n",
    "with open(\"mapping_config-4.json\", \"r\") as mapping_file:\n",
    "    mapping_config = json.load(mapping_file)\n",
    "\n",
    "# Initialize the property graph JSON structure\n",
    "property_graph = {\"graph\": {\"nodes\": [], \"edges\": []}}\n",
    "\n",
    "# function to create a node in the property graph\n",
    "def create_node(node_id, node_data):\n",
    "    node = {\"id\": node_id, \"label\": [node_data[\"Name\"]], \"properties\": {}}\n",
    "    for key, value in node_data.items():\n",
    "        if key != \"id\":\n",
    "            property_name = mapping_config[\"People\"].get(key, key)\n",
    "            node[\"properties\"][str(property_name)] = {\"datatype\": \"string\", \"data value\": value}\n",
    "    property_graph[\"graph\"][\"nodes\"].append({\"node\": node})\n",
    "\n",
    "# function to create a relationship in the property graph\n",
    "def create_relationship(source_id, target_id, relationship_type):\n",
    "    edge = {\"source\": source_id, \"target\": target_id, \"label\": relationship_type, \"properties\": {}}\n",
    "    property_graph[\"graph\"][\"edges\"].append({\"edge\": edge})\n",
    "\n",
    "# mapping to friend IDs and create nodes and relationships\n",
    "for person in data[\"People\"]:\n",
    "    create_node(person[\"id\"], person)\n",
    "    for friend_id in person.get(\"friends\", []):\n",
    "        friend_id_mapped = mapping_config[\"People\"][\"friends\"].get(str(friend_id), friend_id)\n",
    "        create_relationship(person[\"id\"], int(friend_id_mapped), \"FRIENDS\")\n",
    "\n",
    "# Output the property graph JSON\n",
    "with open(\"output_property_graph.json\", \"w\") as output_file:\n",
    "    json.dump(property_graph, output_file, indent=2)\n",
    "\n",
    "property_graph\n"
   ]
  },
  {
   "cell_type": "code",
   "execution_count": null,
   "id": "5ec52480-5e53-4b9e-8cc8-c4df98e9ed86",
   "metadata": {},
   "outputs": [],
   "source": []
  }
 ],
 "metadata": {
  "kernelspec": {
   "display_name": "Python 3 (ipykernel)",
   "language": "python",
   "name": "python3"
  },
  "language_info": {
   "codemirror_mode": {
    "name": "ipython",
    "version": 3
   },
   "file_extension": ".py",
   "mimetype": "text/x-python",
   "name": "python",
   "nbconvert_exporter": "python",
   "pygments_lexer": "ipython3",
   "version": "3.9.16"
  }
 },
 "nbformat": 4,
 "nbformat_minor": 5
}
