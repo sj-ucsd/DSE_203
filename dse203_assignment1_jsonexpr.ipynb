{
 "cells": [
  {
   "cell_type": "code",
   "execution_count": 2,
   "id": "d8a885bd",
   "metadata": {},
   "outputs": [],
   "source": [
    "import json\n",
    "from jsonpath_ng.ext import parse\n",
    "import networkx\n",
    "import argparse"
   ]
  },
  {
   "cell_type": "code",
   "execution_count": 243,
   "id": "12570ee1",
   "metadata": {},
   "outputs": [],
   "source": [
    "def load_json_data(input_file):\n",
    "    try:\n",
    "        with open(input_file, 'r') as data_json:\n",
    "            source_data = json.load(data_json)\n",
    "        return source_data\n",
    "    except FileNotFoundError:\n",
    "        print(f\"Error: The file '{input_file}' was not found.\")\n",
    "        return None\n",
    "\n",
    "# Create an argument parser\n",
    "parser = argparse.ArgumentParser(description=\"Load JSON data from a file\")\n",
    "\n",
    "# Add arguments for input file and mapping configuration file\n",
    "parser.add_argument(\"input_file\", help=\"Path to the input JSON data file\")\n",
    "parser.add_argument(\"map_cfg_file\", help=\"Path to the mapping configuration file\")\n",
    "\n",
    "\n",
    "# Parse the command-line arguments\n",
    "#args = parser.parse_args()\n",
    "\n",
    "# Specify the input file path here\n",
    "input_file = './people2.json'  # Replace with the actual file path\n",
    "map_cfg_file = './people_map_cfg2.json'\n",
    "\n",
    "# Load data from the specified input file\n",
    "source_data = load_json_data(input_file)\n",
    "mapping_config = load_json_data(map_cfg_file)\n"
   ]
  },
  {
   "cell_type": "code",
   "execution_count": 103,
   "id": "2948c8f4",
   "metadata": {},
   "outputs": [
    {
     "data": {
      "text/plain": [
       "{'schema-map': {'nodes': [{'node-type': '$.People',\n",
       "    'label': 'People',\n",
       "    'node-id': 'id',\n",
       "    'node-properties': {'Name': 'Name', 'Age': 'Age', 'Gender': 'Gender'}},\n",
       "   {'node-type': '$.Movies',\n",
       "    'label': 'Movies',\n",
       "    'node-id': 'id',\n",
       "    'node-properties': {'Title': 'Title', 'Director': 'Director'}}],\n",
       "  'edges': [{'edge-type': '$.People.friends',\n",
       "    'relationship': 'IS_FRIENDS_WITH',\n",
       "    'direction': 'Out',\n",
       "    'edge-id': '',\n",
       "    'edge-properties': '',\n",
       "    '_source': '$.People.id',\n",
       "    '_target': '$.People.friends'}]}}"
      ]
     },
     "execution_count": 103,
     "metadata": {},
     "output_type": "execute_result"
    }
   ],
   "source": [
    "mapping_config"
   ]
  },
  {
   "cell_type": "code",
   "execution_count": 5,
   "id": "1b0a7133",
   "metadata": {},
   "outputs": [],
   "source": [
    "import networkx as nx\n",
    "property_graph = nx.Graph()"
   ]
  },
  {
   "cell_type": "code",
   "execution_count": 7,
   "id": "44eadf83",
   "metadata": {},
   "outputs": [],
   "source": [
    "property_graph.add_node(1,label='People',type='People')"
   ]
  },
  {
   "cell_type": "code",
   "execution_count": 10,
   "id": "e2edc8a4",
   "metadata": {},
   "outputs": [
    {
     "data": {
      "text/plain": [
       "NodeDataView({1: {'label': 'People', 'type': 'People'}})"
      ]
     },
     "execution_count": 10,
     "metadata": {},
     "output_type": "execute_result"
    }
   ],
   "source": [
    "property_graph.nodes.data()"
   ]
  },
  {
   "cell_type": "code",
   "execution_count": 11,
   "id": "b432efb2",
   "metadata": {},
   "outputs": [],
   "source": [
    "property_graph.remove_node(1)"
   ]
  },
  {
   "cell_type": "code",
   "execution_count": null,
   "id": "e71f88a0",
   "metadata": {},
   "outputs": [],
   "source": [
    "# add nodes to the property graph\n",
    "for element in source_data[mapping_config['schema-map']['nodes'][0]['label']]:\n",
    "    node = {\n",
    "        \"node\": {\n",
    "            \"id\": element[mapping_config['schema-map']['nodes'][0]['node-id']],\n",
    "            \"label\": mapping_config['schema-map']['nodes'][0]['label'],\n",
    "            \"properties\":{} #mapping_config['schema-map']['nodes'][0]['node-properties']\n",
    "        }\n",
    "    }\n",
    "\n",
    "    # Map properties to the node\n",
    "    for property_name, property_mapping in mapping_config['schema-map']['nodes'][0]['node-properties'].items():\n",
    "        property_value = element\n",
    "        for key in property_mapping.split('.'):\n",
    "            property_value = property_value.get(key, None)\n",
    "            if property_value is None:\n",
    "                break\n",
    "\n",
    "        if property_value is not None:\n",
    "            node[\"node\"][\"properties\"][property_name] = {\n",
    "                \"datatype\": \"string\",  # comment : modify this based on the actual data types\n",
    "                \"data value\": property_value\n",
    "            }\n",
    "\n",
    "    property_graph[\"graph\"][\"nodes\"].append(node)"
   ]
  },
  {
   "cell_type": "code",
   "execution_count": null,
   "id": "c873ecb1",
   "metadata": {},
   "outputs": [],
   "source": [
    "jsonpath_expression = parse(\"$.People[*]..[id,Name,Age,Gender]\")\n",
    "jsonpath_expression = parse(\"{root_node}[*]..[id,Name,Age,Gender]\")\n",
    "\n",
    "for match in jsonpath_expression.find(people):\n",
    "    print(match.value)"
   ]
  },
  {
   "cell_type": "code",
   "execution_count": 177,
   "id": "9a0d081b",
   "metadata": {},
   "outputs": [
    {
     "name": "stdout",
     "output_type": "stream",
     "text": [
      "['id', 'Name', 'Age', 'Gender']\n",
      "[1, 'Max', 20, 'Male', 2, 'Alice', 25, 'Female', 3, 'Bob', 22, 'Male', 4, 'Joe', 52, 'Male', 5, 'Van Dyke', 42, '', 6, ['Ken', 'Kennedy', 'Kenneth'], 'Male', 7, ['Sally'], '19', 'Female', 8, ['Ka‘anapali'], '19', 'Not Stated']\n",
      "['id', 'Title', 'Director']\n",
      "[1, 'Lord Of The Rings', 'Peter Jackson']\n"
     ]
    }
   ],
   "source": [
    "nodes = mapping_config['schema-map']['nodes']\n",
    "mydata = []\n",
    "for node in nodes:\n",
    "    jsargs = [node['node-id']]\n",
    "    #print(node['node-properties'].keys())\n",
    "    jsargs.extend(list(node['node-properties'].keys()))\n",
    "    print(jsargs)\n",
    "    # \"$.People..[id,Name,Age,Gender]\"\n",
    "    js1 = parse(\"%s..%s\" % (node['node-type'],jsargs))\n",
    "    '''\n",
    "    for match in js1.find(source_data):\n",
    "        #print(match['label'].value)\n",
    "        print(match.value)\n",
    "        mydata.append(match.value)\n",
    "        #print(match.value[0].id)\n",
    "    '''\n",
    "    matches = [match.value for match in js1.find(source_data)]\n",
    "    print(matches)"
   ]
  },
  {
   "cell_type": "code",
   "execution_count": 190,
   "id": "fd53a5b4",
   "metadata": {},
   "outputs": [],
   "source": [
    "property_graph.clear()"
   ]
  },
  {
   "cell_type": "code",
   "execution_count": 230,
   "id": "86b2cf97",
   "metadata": {},
   "outputs": [
    {
     "name": "stdout",
     "output_type": "stream",
     "text": [
      "DatumInContext(value=1, path=Fields('id'), context=DatumInContext(value={'id': 1, 'name': 'test'}, path=This(), context=None))\n"
     ]
    }
   ],
   "source": [
    "my_node = {\"id\":1,\"name\":\"test\"}\n",
    "js = parse(\"id\")\n",
    "for m in js.find(my_node):\n",
    "    print(m)"
   ]
  },
  {
   "cell_type": "code",
   "execution_count": 251,
   "id": "73ac2ae9",
   "metadata": {},
   "outputs": [
    {
     "name": "stdout",
     "output_type": "stream",
     "text": [
      "[{'id': 1, 'Name': 'Max', 'Age': 20, 'Gender': 'Male', 'friends': [2, 3]}, {'id': 2, 'Name': 'Alice', 'Age': 25, 'Gender': 'Female', 'friends': [1]}, {'id': 3, 'Name': 'Bob', 'Age': 22, 'Gender': 'Male', 'friends': [1, 4]}, {'id': 4, 'Name': 'Joe', 'Age': 52, 'Gender': 'Male', 'friends': [3]}, {'id': 5, 'Name': 'Van Dyke', 'Age': 42, 'Gender': '', 'friends': [2]}, {'id': 6, 'Name': ['Ken', 'Kennedy', 'Kenneth'], 'Age': 'unknown', 'Gender': 'Male', 'friends': []}, {'id': 7, 'Name': ['Sally'], 'Age': '19', 'Gender': 'Female', 'friends': [2, 1, 3, 6, 5, 4]}, {'id': 8, 'Name': ['Ka‘anapali'], 'Age': '19', 'Gender': 'Not Stated', 'friends': [5, 4]}]\n"
     ]
    }
   ],
   "source": [
    "#nodes\n",
    "nodes = mapping_config['schema-map']['nodes']\n",
    "mynodes = []\n",
    "for i in range(len(nodes)):\n",
    "    nodeid = [nodes[i]['node-id']]\n",
    "    node_props = nodes[i]['node-properties']\n",
    "    #print(nodeid,node_props)\n",
    "    label = nodes[i]['label']\n",
    "    \n",
    "    js1 = parse(\"%s\" % (nodes[i]['node-type']))\n",
    "    #print(js1)\n",
    "    for match in js1.find(source_data):\n",
    "        for i in list(match.value):\n",
    "            nodedata = i\n",
    "            print(node_data)\n",
    "            break\n",
    "\n",
    "\n",
    "\n",
    "    "
   ]
  },
  {
   "cell_type": "code",
   "execution_count": 191,
   "id": "0fca22e1",
   "metadata": {},
   "outputs": [
    {
     "name": "stdout",
     "output_type": "stream",
     "text": [
      "People\n",
      "[1, 2, 3, 4, 5, 6, 7, 8]\n",
      "1\n",
      "2\n",
      "3\n",
      "4\n",
      "5\n",
      "6\n",
      "7\n",
      "8\n",
      "Movies\n",
      "[1]\n",
      "1\n"
     ]
    }
   ],
   "source": [
    "# nodes\n",
    "nodes = mapping_config['schema-map']['nodes']\n",
    "mydata = []\n",
    "for node in nodes:\n",
    "    jsargs = [node['node-id']]\n",
    "    label = node['label']\n",
    "    \n",
    "    js1 = parse(\"%s..%s\" % (node['node-type'],jsargs))\n",
    "   \n",
    "    matches = [match.value for match in js1.find(source_data)]\n",
    "    print(matches)\n",
    "\n",
    "   \n",
    "    for i in range(len(matches)):\n",
    "        jsargs = []\n",
    "        jsargs.extend(list(node['node-properties'].keys())) # may be a problem if some elements don't have all fields\n",
    "        js2 = parse(\"%s[%s]..%s\" % (node['node-type'],i,jsargs)) \n",
    "        m2 = [m2.value for m2 in js2.find(source_data)]\n",
    "        data_dict = dict(zip(node['node-properties'].keys(), m2))\n",
    "        property_graph.add_node(\"%s_%s\" % (label,matches[i]),label=label,properties=data_dict)\n",
    "\n",
    "    "
   ]
  },
  {
   "cell_type": "code",
   "execution_count": 192,
   "id": "dfe198d4",
   "metadata": {},
   "outputs": [
    {
     "data": {
      "text/plain": [
       "NodeDataView({'People_1': {'label': 'People', 'properties': {'Name': 'Max', 'Age': 20, 'Gender': 'Male'}}, 'People_2': {'label': 'People', 'properties': {'Name': 'Alice', 'Age': 25, 'Gender': 'Female'}}, 'People_3': {'label': 'People', 'properties': {'Name': 'Bob', 'Age': 22, 'Gender': 'Male'}}, 'People_4': {'label': 'People', 'properties': {'Name': 'Joe', 'Age': 52, 'Gender': 'Male'}}, 'People_5': {'label': 'People', 'properties': {'Name': 'Van Dyke', 'Age': 42, 'Gender': ''}}, 'People_6': {'label': 'People', 'properties': {'Name': ['Ken', 'Kennedy', 'Kenneth'], 'Age': 'Male'}}, 'People_7': {'label': 'People', 'properties': {'Name': ['Sally'], 'Age': '19', 'Gender': 'Female'}}, 'People_8': {'label': 'People', 'properties': {'Name': ['Ka‘anapali'], 'Age': '19', 'Gender': 'Not Stated'}}, 'Movies_1': {'label': 'Movies', 'properties': {'Title': 'Lord Of The Rings', 'Director': 'Peter Jackson'}}})"
      ]
     },
     "execution_count": 192,
     "metadata": {},
     "output_type": "execute_result"
    }
   ],
   "source": [
    "property_graph.nodes.data()"
   ]
  },
  {
   "cell_type": "code",
   "execution_count": 193,
   "id": "a3900fc4",
   "metadata": {},
   "outputs": [
    {
     "data": {
      "image/png": "[encoded data removed]",
      "text/plain": [
       "<Figure size 640x480 with 1 Axes>"
      ]
     },
     "metadata": {},
     "output_type": "display_data"
    }
   ],
   "source": [
    "import matplotlib.pyplot as plt\n",
    "nx.draw_networkx(property_graph,with_labels=True)\n",
    "plt.show()"
   ]
  },
  {
   "cell_type": "code",
   "execution_count": 96,
   "id": "0b4a4f57",
   "metadata": {},
   "outputs": [
    {
     "data": {
      "text/plain": [
       "dict_keys(['Name', 'Age', 'Gender'])"
      ]
     },
     "execution_count": 96,
     "metadata": {},
     "output_type": "execute_result"
    }
   ],
   "source": [
    "node['node-properties'].keys()"
   ]
  },
  {
   "cell_type": "code",
   "execution_count": 83,
   "id": "1102ffe3",
   "metadata": {},
   "outputs": [
    {
     "data": {
      "text/plain": [
       "{'node-type': '$.People',\n",
       " 'label': 'People',\n",
       " 'node-id': 'id',\n",
       " 'node-properties': {'Name': 'Name', 'Age': 'Age', 'Gender': 'Gender'}}"
      ]
     },
     "execution_count": 83,
     "metadata": {},
     "output_type": "execute_result"
    }
   ],
   "source": [
    "node"
   ]
  },
  {
   "cell_type": "code",
   "execution_count": 79,
   "id": "e43e24c9",
   "metadata": {},
   "outputs": [],
   "source": [
    "js = parse(\"$.People.Parent[*]\")\n",
    "for match in js.find(source_data):\n",
    "    print(match)"
   ]
  },
  {
   "cell_type": "code",
   "execution_count": 75,
   "id": "825f4a02",
   "metadata": {},
   "outputs": [
    {
     "data": {
      "text/plain": [
       "Child(Child(Child(Root(), Fields('People')), Fields('Parent')), Slice(start=None,end=None,step=None))"
      ]
     },
     "execution_count": 75,
     "metadata": {},
     "output_type": "execute_result"
    }
   ],
   "source": [
    "js"
   ]
  },
  {
   "cell_type": "code",
   "execution_count": 13,
   "id": "5d6e7f78",
   "metadata": {},
   "outputs": [
    {
     "data": {
      "text/plain": [
       "[{'node-type': '$.People',\n",
       "  'label': 'People',\n",
       "  'node-id': '$.People.id',\n",
       "  'node-properties': {'Name': '$.People.Name',\n",
       "   'Age': '$.People.Age',\n",
       "   'Gender': '$.People.Gender'}}]"
      ]
     },
     "execution_count": 13,
     "metadata": {},
     "output_type": "execute_result"
    }
   ],
   "source": [
    "nodes"
   ]
  },
  {
   "cell_type": "code",
   "execution_count": 19,
   "id": "5d210895",
   "metadata": {},
   "outputs": [
    {
     "data": {
      "text/plain": [
       "{'node-type': '$.People',\n",
       " 'label': 'People',\n",
       " 'node-id': '$.People.id',\n",
       " 'node-properties': {'Name': '$.People.Name',\n",
       "  'Age': '$.People.Age',\n",
       "  'Gender': '$.People.Gender'}}"
      ]
     },
     "execution_count": 19,
     "metadata": {},
     "output_type": "execute_result"
    }
   ],
   "source": [
    "node"
   ]
  },
  {
   "cell_type": "code",
   "execution_count": 38,
   "id": "343d3415",
   "metadata": {},
   "outputs": [
    {
     "data": {
      "text/plain": [
       "{'node-type': '$.People',\n",
       " 'label': 'People',\n",
       " 'node-id': '$.People.id',\n",
       " 'node-properties': {'Name': '$.People.Name',\n",
       "  'Age': '$.People.Age',\n",
       "  'Gender': '$.People.Gender'}}"
      ]
     },
     "execution_count": 38,
     "metadata": {},
     "output_type": "execute_result"
    }
   ],
   "source": [
    "node"
   ]
  },
  {
   "cell_type": "code",
   "execution_count": 49,
   "id": "d5ef9655",
   "metadata": {},
   "outputs": [
    {
     "ename": "TypeError",
     "evalue": "unsupported operand type(s) for -: 'str' and 'str'",
     "output_type": "error",
     "traceback": [
      "\u001b[0;31m---------------------------------------------------------------------------\u001b[0m",
      "\u001b[0;31mTypeError\u001b[0m                                 Traceback (most recent call last)",
      "Cell \u001b[0;32mIn[49], line 1\u001b[0m\n\u001b[0;32m----> 1\u001b[0m \u001b[38;5;28mprint\u001b[39m(\u001b[38;5;124m\"\u001b[39m\u001b[38;5;132;01m{}\u001b[39;00m\u001b[38;5;124m..[\u001b[39m\u001b[38;5;132;01m{}\u001b[39;00m\u001b[38;5;124m]\u001b[39m\u001b[38;5;124m\"\u001b[39m\u001b[38;5;241m.\u001b[39mformat(node[\u001b[38;5;124m'\u001b[39m\u001b[38;5;124mnode-type\u001b[39m\u001b[38;5;124m'\u001b[39m],\u001b[43mnode\u001b[49m\u001b[43m[\u001b[49m\u001b[38;5;124;43m'\u001b[39;49m\u001b[38;5;124;43mnode-id\u001b[39;49m\u001b[38;5;124;43m'\u001b[39;49m\u001b[43m]\u001b[49m\u001b[38;5;241;43m-\u001b[39;49m\u001b[43mnode\u001b[49m\u001b[43m[\u001b[49m\u001b[38;5;124;43m'\u001b[39;49m\u001b[38;5;124;43mnode-type\u001b[39;49m\u001b[38;5;124;43m'\u001b[39;49m\u001b[43m]\u001b[49m))\n",
      "\u001b[0;31mTypeError\u001b[0m: unsupported operand type(s) for -: 'str' and 'str'"
     ]
    }
   ],
   "source": [
    "print(\"{}..[{}]\".format(node['node-type'],node['node-id']-node['node-type']))"
   ]
  },
  {
   "cell_type": "code",
   "execution_count": 194,
   "id": "59ae1b1e",
   "metadata": {},
   "outputs": [],
   "source": [
    "keys=[\"a\",\"b\",\"c\"]\n",
    "values=[1,2]\n",
    "kv = dict(zip(keys,values))"
   ]
  },
  {
   "cell_type": "code",
   "execution_count": 195,
   "id": "e9dcd7d7",
   "metadata": {},
   "outputs": [
    {
     "data": {
      "text/plain": [
       "{'a': 1, 'b': 2}"
      ]
     },
     "execution_count": 195,
     "metadata": {},
     "output_type": "execute_result"
    }
   ],
   "source": [
    "kv"
   ]
  },
  {
   "cell_type": "code",
   "execution_count": 231,
   "id": "bbd5f3b5",
   "metadata": {},
   "outputs": [],
   "source": [
    "with open('../movies_pgraph.json', 'r') as data_json:\n",
    "            source_data = json.load(data_json)"
   ]
  },
  {
   "cell_type": "code",
   "execution_count": 235,
   "id": "38664ba1",
   "metadata": {},
   "outputs": [],
   "source": [
    "pgraph = nx.Graph()"
   ]
  },
  {
   "cell_type": "code",
   "execution_count": 236,
   "id": "a5953d31",
   "metadata": {},
   "outputs": [
    {
     "name": "stdout",
     "output_type": "stream",
     "text": [
      "The Murder of Nicole Brown Simpson\n",
      "Bad Boys for Life\n",
      "Dolittle\n",
      "A Fall from Grace\n",
      "The Gentlemen\n",
      "The Turning\n",
      "The Last Full Measure\n",
      "John Henry\n",
      "1\n",
      "2\n",
      "3\n",
      "4\n"
     ]
    }
   ],
   "source": [
    "for node in source_data['graph']['nodes']:\n",
    "    print (node['node']['id']) \n",
    "    pgraph.add_node(node['node']['id'],label=node['node']['label'],properties=node['node']['properties'])"
   ]
  },
  {
   "cell_type": "code",
   "execution_count": 239,
   "id": "00db6cdc",
   "metadata": {},
   "outputs": [
    {
     "data": {
      "text/plain": [
       "NodeView(('The Murder of Nicole Brown Simpson', 'Bad Boys for Life', 'Dolittle', 'A Fall from Grace', 'The Gentlemen', 'The Turning', 'The Last Full Measure', 'John Henry', 1, 2, 3, 4))"
      ]
     },
     "execution_count": 239,
     "metadata": {},
     "output_type": "execute_result"
    }
   ],
   "source": [
    "pgraph.nodes"
   ]
  },
  {
   "cell_type": "code",
   "execution_count": 240,
   "id": "ab9d96b8",
   "metadata": {},
   "outputs": [
    {
     "name": "stdout",
     "output_type": "stream",
     "text": [
      "1\n"
     ]
    },
    {
     "ename": "TypeError",
     "evalue": "add_edge() missing 1 required positional argument: 'v_of_edge'",
     "output_type": "error",
     "traceback": [
      "\u001b[0;31m---------------------------------------------------------------------------\u001b[0m",
      "\u001b[0;31mTypeError\u001b[0m                                 Traceback (most recent call last)",
      "Cell \u001b[0;32mIn[240], line 3\u001b[0m\n\u001b[1;32m      1\u001b[0m \u001b[38;5;28;01mfor\u001b[39;00m edge \u001b[38;5;129;01min\u001b[39;00m source_data[\u001b[38;5;124m'\u001b[39m\u001b[38;5;124mgraph\u001b[39m\u001b[38;5;124m'\u001b[39m][\u001b[38;5;124m'\u001b[39m\u001b[38;5;124medges\u001b[39m\u001b[38;5;124m'\u001b[39m]:\n\u001b[1;32m      2\u001b[0m     \u001b[38;5;28mprint\u001b[39m (edge[\u001b[38;5;124m'\u001b[39m\u001b[38;5;124medge\u001b[39m\u001b[38;5;124m'\u001b[39m][\u001b[38;5;124m'\u001b[39m\u001b[38;5;124mid\u001b[39m\u001b[38;5;124m'\u001b[39m]) \n\u001b[0;32m----> 3\u001b[0m     \u001b[43mpgraph\u001b[49m\u001b[38;5;241;43m.\u001b[39;49m\u001b[43madd_edge\u001b[49m\u001b[43m(\u001b[49m\u001b[43medge\u001b[49m\u001b[43m[\u001b[49m\u001b[38;5;124;43m'\u001b[39;49m\u001b[38;5;124;43medge\u001b[39;49m\u001b[38;5;124;43m'\u001b[39;49m\u001b[43m]\u001b[49m\u001b[43m)\u001b[49m\n",
      "\u001b[0;31mTypeError\u001b[0m: add_edge() missing 1 required positional argument: 'v_of_edge'"
     ]
    }
   ],
   "source": [
    "for edge in source_data['graph']['edges']:\n",
    "    print (edge['edge']['id']) \n",
    "    pgraph.add_edge(edge['edge'])"
   ]
  },
  {
   "cell_type": "code",
   "execution_count": 252,
   "id": "918d19eb",
   "metadata": {},
   "outputs": [],
   "source": [
    "with open('./books_map_cfg.json', 'r') as data_json:\n",
    "            source_data = json.load(data_json)"
   ]
  },
  {
   "cell_type": "code",
   "execution_count": 253,
   "id": "e516ab1f",
   "metadata": {},
   "outputs": [
    {
     "data": {
      "text/plain": [
       "{'schema-map': {'nodes': [{'node-type': '$.Books',\n",
       "    'label': 'Books',\n",
       "    'node-id': 'isbn',\n",
       "    'node-properties': {'Title': {'data_type': 'string',\n",
       "      'data_value': 'title'},\n",
       "     'Published Year': {'data_type': 'numeric',\n",
       "      'data_value': 'published_year'},\n",
       "     'Genere': {'data_type': 'list', 'data_value': 'genere'}}},\n",
       "   {'node-type': '$.Authors',\n",
       "    'label': 'Authors',\n",
       "    'node-id': 'name',\n",
       "    'node-properties': {'Birth Year': {'data_type': 'numeric',\n",
       "      'data_value': 'birth_year'},\n",
       "     'Death Year': {'data_type': 'numeric', 'data_value': 'death_year'},\n",
       "     'Country of Birth': {'data_type': 'string',\n",
       "      'data_value': 'country_of_birth'}}}],\n",
       "  'edges': [{'edge-type': '',\n",
       "    'relatioship': 'Created',\n",
       "    'direction': 'Out',\n",
       "    'edge-id': '',\n",
       "    'edge-properties': '',\n",
       "    '_source': 'name',\n",
       "    '_source_type': 'Authors',\n",
       "    '_target': 'author',\n",
       "    '_target_type': 'Books'}]}}"
      ]
     },
     "execution_count": 253,
     "metadata": {},
     "output_type": "execute_result"
    }
   ],
   "source": [
    "source_data"
   ]
  },
  {
   "cell_type": "code",
   "execution_count": 255,
   "id": "da6c48e3",
   "metadata": {},
   "outputs": [
    {
     "data": {
      "text/plain": [
       "{'edge-type': '',\n",
       " 'relatioship': 'Created',\n",
       " 'direction': 'Out',\n",
       " 'edge-id': '',\n",
       " 'edge-properties': '',\n",
       " '_source': 'name',\n",
       " '_source_type': 'Authors',\n",
       " '_target': 'author',\n",
       " '_target_type': 'Books'}"
      ]
     },
     "execution_count": 255,
     "metadata": {},
     "output_type": "execute_result"
    }
   ],
   "source": [
    "source_data['schema-map']['edges'][0]"
   ]
  },
  {
   "cell_type": "code",
   "execution_count": 258,
   "id": "c21a50d5",
   "metadata": {},
   "outputs": [
    {
     "data": {
      "text/plain": [
       "('Authors', 'Books')"
      ]
     },
     "execution_count": 258,
     "metadata": {},
     "output_type": "execute_result"
    }
   ],
   "source": [
    "source_node_type = source_data['schema-map']['edges'][0]['_source_type']\n",
    "target_node_type = source_data['schema-map']['edges'][0]['_target_type']\n",
    "source_node_type,target_node_type"
   ]
  },
  {
   "cell_type": "code",
   "execution_count": null,
   "id": "86731e66",
   "metadata": {},
   "outputs": [],
   "source": [
    "src_nodes = [node for node in property_graph['graph']['nodes'] if node['label'] == source_node_type]\n",
    "trgt_nodes = [node for node in property_graph['graph']['nodes'] if node['label'] == source_node_type]\n",
    "for src_node in src_nodes:\n",
    "    for trgt_node in trgt_nodes:\n",
    "        if src_node['_source'] == trgt_node['_target']:\n",
    "            add_edge(src_node, trgt_node)"
   ]
  }
 ],
 "metadata": {
  "kernelspec": {
   "display_name": "Python 3 (ipykernel)",
   "language": "python",
   "name": "python3"
  },
  "language_info": {
   "codemirror_mode": {
    "name": "ipython",
    "version": 3
   },
   "file_extension": ".py",
   "mimetype": "text/x-python",
   "name": "python",
   "nbconvert_exporter": "python",
   "pygments_lexer": "ipython3",
   "version": "3.9.12"
  }
 },
 "nbformat": 4,
 "nbformat_minor": 5
}
